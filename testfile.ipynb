{
 "cells": [
  {
   "cell_type": "code",
   "execution_count": 1,
   "id": "1b3a43be",
   "metadata": {},
   "outputs": [],
   "source": [
    "def cal():\n",
    "    a= 34\n",
    "    b=53\n",
    "    sum= a+b\n",
    "    return (sum) "
   ]
  },
  {
   "cell_type": "code",
   "execution_count": 2,
   "id": "bc44a4fb",
   "metadata": {},
   "outputs": [
    {
     "data": {
      "text/plain": [
       "87"
      ]
     },
     "execution_count": 2,
     "metadata": {},
     "output_type": "execute_result"
    }
   ],
   "source": [
    "cal()"
   ]
  },
  {
   "cell_type": "code",
   "execution_count": null,
   "id": "ccb8c9f9",
   "metadata": {},
   "outputs": [],
   "source": []
  }
 ],
 "metadata": {
  "kernelspec": {
   "display_name": "Python 3",
   "language": "python",
   "name": "python3"
  },
  "language_info": {
   "codemirror_mode": {
    "name": "ipython",
    "version": 3
   },
   "file_extension": ".py",
   "mimetype": "text/x-python",
   "name": "python",
   "nbconvert_exporter": "python",
   "pygments_lexer": "ipython3",
   "version": "3.13.3"
  }
 },
 "nbformat": 4,
 "nbformat_minor": 5
}
