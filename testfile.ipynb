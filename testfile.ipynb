{
 "cells": [
  {
   "cell_type": "code",
   "execution_count": 4,
   "id": "1b3a43be",
   "metadata": {},
   "outputs": [],
   "source": [
    "def cal():\n",
    "    a= 34\n",
    "    b=53\n",
    "    sum= a+b\n",
    "    return (sum) "
   ]
  },
  {
   "cell_type": "code",
   "execution_count": 5,
   "id": "bc44a4fb",
   "metadata": {},
   "outputs": [],
   "source": [
    "cal_sum=cal()"
   ]
  },
  {
   "cell_type": "code",
   "execution_count": 6,
   "id": "ccb8c9f9",
   "metadata": {},
   "outputs": [
    {
     "name": "stdout",
     "output_type": "stream",
     "text": [
      "the sum of given function.... 87\n"
     ]
    }
   ],
   "source": [
    "print('the sum of given function....', cal_sum)"
   ]
  },
  {
   "cell_type": "code",
   "execution_count": null,
   "id": "aef4671f",
   "metadata": {},
   "outputs": [],
   "source": []
  }
 ],
 "metadata": {
  "kernelspec": {
   "display_name": "Python 3",
   "language": "python",
   "name": "python3"
  },
  "language_info": {
   "codemirror_mode": {
    "name": "ipython",
    "version": 3
   },
   "file_extension": ".py",
   "mimetype": "text/x-python",
   "name": "python",
   "nbconvert_exporter": "python",
   "pygments_lexer": "ipython3",
   "version": "3.13.3"
  }
 },
 "nbformat": 4,
 "nbformat_minor": 5
}
