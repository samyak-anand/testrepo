{
 "cells": [
  {
   "cell_type": "code",
   "execution_count": 1,
   "id": "1b3a43be",
   "metadata": {},
   "outputs": [],
   "source": [
    "def cal():\n",
    "    a= 40\n",
    "    b=60\n",
    "    sum= a+b\n",
    "    return (sum) "
   ]
  },
  {
   "cell_type": "code",
   "execution_count": 3,
   "id": "bc44a4fb",
   "metadata": {},
   "outputs": [
    {
     "data": {
      "text/plain": [
       "100"
      ]
     },
     "execution_count": 3,
     "metadata": {},
     "output_type": "execute_result"
    }
   ],
   "source": [
    "cal()"
   ]
  },
  {
   "cell_type": "code",
   "execution_count": 5,
   "id": "ccb8c9f9",
   "metadata": {},
   "outputs": [
    {
     "name": "stdout",
     "output_type": "stream",
     "text": [
      "modified\n"
     ]
    }
   ],
   "source": [
    "print(\"modified\")"
   ]
  },
  {
   "cell_type": "code",
   "execution_count": null,
   "id": "26c0d19f-9c37-419e-84a6-117483d3a37d",
   "metadata": {},
   "outputs": [],
   "source": []
  }
 ],
 "metadata": {
  "kernelspec": {
   "display_name": "Python [conda env:base] *",
   "language": "python",
   "name": "conda-base-py"
  },
  "language_info": {
   "codemirror_mode": {
    "name": "ipython",
    "version": 3
   },
   "file_extension": ".py",
   "mimetype": "text/x-python",
   "name": "python",
   "nbconvert_exporter": "python",
   "pygments_lexer": "ipython3",
   "version": "3.12.7"
  }
 },
 "nbformat": 4,
 "nbformat_minor": 5
}
